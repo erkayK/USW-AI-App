{
 "cells": [
  {
   "cell_type": "markdown",
   "id": "4a6f6ad1e42e3504",
   "metadata": {},
   "source": [
    "# USW-AI-Projekt: Einfluss sozialer Medien auf Aktienkurse\n",
    "## CRISP-DM Struktur\n",
    "---"
   ]
  },
  {
   "cell_type": "markdown",
   "id": "d0bd09499a3af084",
   "metadata": {},
   "source": [
    "### 1. Business Understanding\n",
    "- Ziel: Zusammenhang zwischen Twitter-Stimmung und Aktienkursentwicklung untersuchen\n",
    "- Zielgruppe: Finanzanalysten, Anleger\n",
    "- Fragestellung: Kann man Kursbewegungen durch Stimmung erklären oder sogar vorhersagen?"
   ]
  },
  {
   "cell_type": "markdown",
   "id": "b36898cf9824850b",
   "metadata": {},
   "source": [
    "### 2. Data Understanding\n",
    "- Datenquellen: Twitter API v2, yfinance\n",
    "- Zeitraum: z. B. letzte 3–6 Monate\n",
    "- Unternehmen: z. B. SAP, Siemens, BMW"
   ]
  },
  {
   "metadata": {
    "ExecuteTime": {
     "end_time": "2025-06-25T21:15:16.512199Z",
     "start_time": "2025-06-25T21:15:16.507787Z"
    }
   },
   "cell_type": "code",
   "source": [
    "import pandas as pd\n",
    "import numpy as np\n",
    "import matplotlib.pyplot as plt\n",
    "import seaborn as sns\n",
    "from scipy import stats as stat\n",
    "\n",
    "%matplotlib inline\n",
    "sns.set()\n",
    "\n",
    "# To avoid Warning message inbetween ...\n",
    "import warnings\n",
    "warnings.filterwarnings('ignore')"
   ],
   "id": "ee1e3150d15e739d",
   "outputs": [],
   "execution_count": 8
  },
  {
   "cell_type": "markdown",
   "id": "fb4cc1f976cc309a",
   "metadata": {},
   "source": [
    "### 3. Data Preparation\n",
    "Dataset loading"
   ]
  },
  {
   "cell_type": "code",
   "id": "f5f47c6a63b96886",
   "metadata": {
    "ExecuteTime": {
     "end_time": "2025-06-25T21:15:03.967428Z",
     "start_time": "2025-06-25T21:14:57.704390Z"
    }
   },
   "source": [
    "import pandas as pd\n",
    "\n",
    "company_tweet = pd.read_csv(\"../Datasets/raw/tweets_top_companies/Company_Tweet.csv\")\n",
    "tweet         = pd.read_csv(\"../Datasets/raw/tweets_top_companies/Tweet.csv\")\n",
    "company       = pd.read_csv(\"../Datasets/raw/tweets_top_companies/Company.csv\")\n",
    "company_value = pd.read_csv(\"../Datasets/raw/company_values/CompanyValues.csv\")\n"
   ],
   "outputs": [],
   "execution_count": 6
  },
  {
   "cell_type": "code",
   "execution_count": null,
   "id": "50835b8f71fce85c",
   "metadata": {},
   "outputs": [],
   "source": [
    "# Platzhalter: Sentimentanalyse vorbereiten\n",
    "# z. B. Huggingface Transformers laden und Tweets analysieren"
   ]
  },
  {
   "cell_type": "markdown",
   "id": "f6511cf8e04bf499",
   "metadata": {},
   "source": [
    "### 4. Modelling\n",
    "- Korrelation analysieren\n",
    "- Optional: Klassifikation ↑/↓ mittels Logistic Regression"
   ]
  },
  {
   "cell_type": "code",
   "execution_count": null,
   "id": "942ffe9031d2077d",
   "metadata": {},
   "outputs": [],
   "source": [
    "# Beispiel: Pearson-Korrelation zwischen Stimmung & Kursveränderung berechnen"
   ]
  },
  {
   "cell_type": "markdown",
   "id": "2b963d03674e5c63",
   "metadata": {},
   "source": [
    "### 5. Evaluation\n",
    "- Visualisierung mit matplotlib/seaborn/plotly\n",
    "- Streudiagramm, Zeitreihenvergleich"
   ]
  },
  {
   "cell_type": "code",
   "execution_count": null,
   "id": "5e77974748f005c",
   "metadata": {},
   "outputs": [],
   "source": [
    "# Beispiel: Zeitreihe mit Kurs vs. Stimmung visualisieren"
   ]
  },
  {
   "cell_type": "markdown",
   "id": "9abddac8f555bd67",
   "metadata": {},
   "source": [
    "### 6. Ergebnis & Reporting\n",
    "- Interpretation der Ergebnisse\n",
    "- Empfehlung: Lohnt sich Social Media Analyse?\n",
    "- ggf. Streamlit-Dashboard oder PDF-Bericht"
   ]
  }
 ],
 "metadata": {
  "kernelspec": {
   "display_name": "Python 3.10 (venv310)",
   "language": "python",
   "name": "venv310"
  },
  "language_info": {
   "codemirror_mode": {
    "name": "ipython",
    "version": 3
   },
   "file_extension": ".py",
   "mimetype": "text/x-python",
   "name": "python",
   "nbconvert_exporter": "python",
   "pygments_lexer": "ipython3",
   "version": "3.10.9"
  }
 },
 "nbformat": 4,
 "nbformat_minor": 5
}

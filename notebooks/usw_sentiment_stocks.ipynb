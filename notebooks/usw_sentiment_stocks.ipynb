{
 "cells": [
  {
   "cell_type": "markdown",
   "id": "4a6f6ad1e42e3504",
   "metadata": {},
   "source": [
    "# USW-AI-Projekt: Einfluss sozialer Medien auf Aktienkurse\n",
    "## CRISP-DM Struktur\n",
    "---"
   ]
  },
  {
   "cell_type": "markdown",
   "id": "d0bd09499a3af084",
   "metadata": {},
   "source": [
    "### 1. Business Understanding\n",
    "- Ziel: Zusammenhang zwischen Twitter-Stimmung und Aktienkursentwicklung untersuchen\n",
    "- Zielgruppe: Finanzanalysten, Anleger\n",
    "- Fragestellung: Kann man Kursbewegungen durch Stimmung erklären oder sogar vorhersagen?"
   ]
  },
  {
   "cell_type": "markdown",
   "id": "b36898cf9824850b",
   "metadata": {},
   "source": [
    "### 2. Data Understanding\n",
    "- Datenquellen: Twitter API v2, yfinance\n",
    "- Zeitraum: z. B. letzte 3–6 Monate\n",
    "- Unternehmen: z. B. SAP, Siemens, BMW"
   ]
  },
  {
   "cell_type": "markdown",
   "id": "f13f66d913c5b24b",
   "metadata": {},
   "source": [
    "- Daten vorbereiten & alle nötigen Libaries laden\n"
   ]
  },
  {
   "cell_type": "code",
   "execution_count": 19,
   "id": "ee1e3150d15e739d",
   "metadata": {
    "ExecuteTime": {
     "end_time": "2025-06-25T21:15:16.512199Z",
     "start_time": "2025-06-25T21:15:16.507787Z"
    }
   },
   "outputs": [],
   "source": [
    "import pandas as pd\n",
    "import numpy as np\n",
    "import matplotlib.pyplot as plt\n",
    "import seaborn as sns\n",
    "from scipy import stats as stat\n",
    "\n",
    "%matplotlib inline\n",
    "sns.set()\n",
    "\n",
    "# To avoid Warning message inbetween ...\n",
    "import warnings\n",
    "warnings.filterwarnings('ignore')"
   ]
  },
  {
   "cell_type": "markdown",
   "id": "fb4cc1f976cc309a",
   "metadata": {},
   "source": [
    "### 3. Data Preparation\n",
    "- Dataset laden\n",
    "- Hier werden die .csv-Dateien geladen:\n",
    "- Tweets.csv enthält Tweets über Tesla (z. B. Datum, Text, Sentiment)"
   ]
  },
  {
   "cell_type": "code",
   "execution_count": 39,
   "id": "f5f47c6a63b96886",
   "metadata": {
    "ExecuteTime": {
     "end_time": "2025-06-25T21:15:03.967428Z",
     "start_time": "2025-06-25T21:14:57.704390Z"
    }
   },
   "outputs": [],
   "source": [
    "import pandas as pd\n",
    "\n",
    "company_tweet = pd.read_csv(\"../Datasets/raw/tweets_top_companies/Company_Tweet.csv\")\n",
    "tweet         = pd.read_csv(\"../Datasets/raw/tweets_top_companies/Tweet.csv\")\n",
    "company       = pd.read_csv(\"../Datasets/raw/tweets_top_companies/Company.csv\")\n",
    "company_value = pd.read_csv(\"../Datasets/raw/company_values/CompanyValues.csv\")\n"
   ]
  },
  {
   "cell_type": "markdown",
   "id": "f6511cf8e04bf499",
   "metadata": {},
   "source": [
    "### 4. Merge Data\n",
    "- Daten zusammenführen\n",
    "- Jetzt sind für jeden Tag Kursdaten + Durchschnittssentiment in einer gemeinsamen Tabelle"
   ]
  },
  {
   "cell_type": "code",
   "execution_count": 42,
   "id": "658f4984dee00b4b",
   "metadata": {},
   "outputs": [
    {
     "name": "stdout",
     "output_type": "stream",
     "text": [
      "Merged Shape: (10950, 9)\n"
     ]
    },
    {
     "data": {
      "text/html": [
       "<div>\n",
       "<style scoped>\n",
       "    .dataframe tbody tr th:only-of-type {\n",
       "        vertical-align: middle;\n",
       "    }\n",
       "\n",
       "    .dataframe tbody tr th {\n",
       "        vertical-align: top;\n",
       "    }\n",
       "\n",
       "    .dataframe thead th {\n",
       "        text-align: right;\n",
       "    }\n",
       "</style>\n",
       "<table border=\"1\" class=\"dataframe\">\n",
       "  <thead>\n",
       "    <tr style=\"text-align: right;\">\n",
       "      <th></th>\n",
       "      <th>ticker_symbol</th>\n",
       "      <th>day_date</th>\n",
       "      <th>close_value</th>\n",
       "      <th>volume</th>\n",
       "      <th>open_value</th>\n",
       "      <th>high_value</th>\n",
       "      <th>low_value</th>\n",
       "      <th>Date</th>\n",
       "      <th>sentiment_score</th>\n",
       "    </tr>\n",
       "  </thead>\n",
       "  <tbody>\n",
       "    <tr>\n",
       "      <th>0</th>\n",
       "      <td>AAPL</td>\n",
       "      <td>2019-12-31</td>\n",
       "      <td>293.65</td>\n",
       "      <td>25247630</td>\n",
       "      <td>289.93</td>\n",
       "      <td>293.68</td>\n",
       "      <td>289.5200</td>\n",
       "      <td>2019-12-31</td>\n",
       "      <td>0.149347</td>\n",
       "    </tr>\n",
       "    <tr>\n",
       "      <th>1</th>\n",
       "      <td>AAPL</td>\n",
       "      <td>2019-12-30</td>\n",
       "      <td>291.52</td>\n",
       "      <td>36059610</td>\n",
       "      <td>289.46</td>\n",
       "      <td>292.69</td>\n",
       "      <td>285.2200</td>\n",
       "      <td>2019-12-30</td>\n",
       "      <td>0.139221</td>\n",
       "    </tr>\n",
       "    <tr>\n",
       "      <th>2</th>\n",
       "      <td>AAPL</td>\n",
       "      <td>2019-12-27</td>\n",
       "      <td>289.80</td>\n",
       "      <td>36592940</td>\n",
       "      <td>291.12</td>\n",
       "      <td>293.97</td>\n",
       "      <td>288.1200</td>\n",
       "      <td>2019-12-27</td>\n",
       "      <td>0.154059</td>\n",
       "    </tr>\n",
       "    <tr>\n",
       "      <th>3</th>\n",
       "      <td>AAPL</td>\n",
       "      <td>2019-12-26</td>\n",
       "      <td>289.91</td>\n",
       "      <td>23334000</td>\n",
       "      <td>284.82</td>\n",
       "      <td>289.98</td>\n",
       "      <td>284.7000</td>\n",
       "      <td>2019-12-26</td>\n",
       "      <td>0.169727</td>\n",
       "    </tr>\n",
       "    <tr>\n",
       "      <th>4</th>\n",
       "      <td>AAPL</td>\n",
       "      <td>2019-12-24</td>\n",
       "      <td>284.27</td>\n",
       "      <td>12119710</td>\n",
       "      <td>284.69</td>\n",
       "      <td>284.89</td>\n",
       "      <td>282.9197</td>\n",
       "      <td>2019-12-24</td>\n",
       "      <td>0.161671</td>\n",
       "    </tr>\n",
       "  </tbody>\n",
       "</table>\n",
       "</div>"
      ],
      "text/plain": [
       "  ticker_symbol   day_date  close_value    volume  open_value  high_value  \\\n",
       "0          AAPL 2019-12-31       293.65  25247630      289.93      293.68   \n",
       "1          AAPL 2019-12-30       291.52  36059610      289.46      292.69   \n",
       "2          AAPL 2019-12-27       289.80  36592940      291.12      293.97   \n",
       "3          AAPL 2019-12-26       289.91  23334000      284.82      289.98   \n",
       "4          AAPL 2019-12-24       284.27  12119710      284.69      284.89   \n",
       "\n",
       "   low_value       Date  sentiment_score  \n",
       "0   289.5200 2019-12-31         0.149347  \n",
       "1   285.2200 2019-12-30         0.139221  \n",
       "2   288.1200 2019-12-27         0.154059  \n",
       "3   284.7000 2019-12-26         0.169727  \n",
       "4   282.9197 2019-12-24         0.161671  "
      ]
     },
     "execution_count": 42,
     "metadata": {},
     "output_type": "execute_result"
    }
   ],
   "source": [
    "# das sind jetzt die Daten von 2015 bis 2020, weil es davor keine Daten für Tweets gibt\n",
    "# 1. Datumsspalten korrekt konvertieren\n",
    "company_value['day_date'] = pd.to_datetime(company_value['day_date'])\n",
    "tweet['post_date'] = pd.to_datetime(tweet['post_date'], unit='s', errors='coerce')\n",
    "\n",
    "# 2. Tweets außerhalb gültiger Zeitspanne entfernen (NaT etc.)\n",
    "tweet = tweet.dropna(subset=['post_date'])\n",
    "\n",
    "# 3. Sentiment berechnen mit VADER\n",
    "from vaderSentiment.vaderSentiment import SentimentIntensityAnalyzer\n",
    "\n",
    "analyzer = SentimentIntensityAnalyzer()\n",
    "tweet['sentiment_score'] = tweet['body'].apply(lambda x: analyzer.polarity_scores(str(x))['compound'])\n",
    "\n",
    "# 4. Durchschnittliches Sentiment pro Tag berechnen\n",
    "daily_sentiment = (\n",
    "    tweet\n",
    "    .assign(Date = tweet['post_date'].dt.normalize())  # nur das Datum\n",
    "    .groupby('Date')['sentiment_score']\n",
    "    .mean()\n",
    "    .reset_index()\n",
    ")\n",
    "\n",
    "# 5. Kursdaten auf Zeitraum der Tweets beschränken\n",
    "start = tweet['post_date'].min()\n",
    "end   = tweet['post_date'].max()\n",
    "\n",
    "company_value = company_value[\n",
    "    (company_value['day_date'] >= start) & (company_value['day_date'] <= end)\n",
    "]\n",
    "\n",
    "# 6. Merge durchführen (gemeinsames Datum)\n",
    "merged_df = pd.merge(\n",
    "    company_value,\n",
    "    daily_sentiment,\n",
    "    left_on='day_date',\n",
    "    right_on='Date',\n",
    "    how='inner'\n",
    ")\n",
    "\n",
    "# 7. Ergebnis anzeigen\n",
    "print(\"Merged Shape:\", merged_df.shape)\n",
    "merged_df.head()\n"
   ]
  },
  {
   "cell_type": "markdown",
   "id": "2b963d03674e5c63",
   "metadata": {},
   "source": [
    "### 5. Korrelation berechnen\n",
    "- Korrelation zeigt, ob positive Tweets mit steigenden Kursen einhergehen (+1 = stark positiv)"
   ]
  },
  {
   "cell_type": "code",
   "execution_count": 26,
   "id": "6f220272-43b6-4e30-9cb6-defd31d2b5aa",
   "metadata": {},
   "outputs": [
    {
     "name": "stdout",
     "output_type": "stream",
     "text": [
      "sentiment_score    0\n",
      "close_value        0\n",
      "dtype: int64\n"
     ]
    }
   ],
   "source": [
    "print(merged_df[['sentiment_score', 'close_value']].isnull().sum())\n"
   ]
  },
  {
   "cell_type": "code",
   "execution_count": 15,
   "id": "32f0f8fb9272e5b1",
   "metadata": {},
   "outputs": [
    {
     "name": "stdout",
     "output_type": "stream",
     "text": [
      "📊 Korrelation zwischen Sentiment und Schlusskurs:\n",
      "                 sentiment_score  close_value\n",
      "sentiment_score              NaN          NaN\n",
      "close_value                  NaN          NaN\n"
     ]
    }
   ],
   "source": [
    "correlation = merged_df[['sentiment_score', 'close_value']].corr()\n",
    "print(\"📊 Korrelation zwischen Sentiment und Schlusskurs:\")\n",
    "print(correlation)"
   ]
  },
  {
   "cell_type": "markdown",
   "id": "25ee8f7866af9c58",
   "metadata": {},
   "source": [
    "### 6.Visualisierung\n",
    "\n",
    "Die Entwicklung des Aktienkurses von Tesla (Close-Preis)\n",
    "Den durchschnittlichen Sentiment-Wert pro Tag (z. B. aus Twitter-Daten)"
   ]
  },
  {
   "cell_type": "code",
   "execution_count": null,
   "id": "bfa1b43ac76988eb",
   "metadata": {},
   "outputs": [],
   "source": [
    "import matplotlib.pyplot as plt\n",
    "\n",
    "# x-Achse = Datum, y-Achse = Schlusskurs (Close) der Tesla-Aktie, durchschnittliches Sentiment pro Tag (multipliziert mit 100, um auf ähnlicher Skala wie Aktienkurs sichtbar zu sein)\n",
    "plt.figure(figsize=(12,5)) # Diagramm mit einer Größe von 12 x 5\n",
    "plt.plot(merged_df['Date'], merged_df['Close'], label='Schlusskurs', color='blue')\n",
    "plt.plot(merged_df['Date'], merged_df['Avg_Sentiment'] * 100, label='Sentiment (x100)', color='orange')\n",
    "\n",
    "plt.legend()\n",
    "plt.title(\"Tesla: Sentiment vs. Aktienkurs\")\n",
    "plt.xlabel(\"Datum\")\n",
    "plt.ylabel(\"Wert\")\n",
    "plt.grid(True)\n",
    "plt.show()\n"
   ]
  },
  {
   "cell_type": "markdown",
   "id": "7806e64a4762792f",
   "metadata": {},
   "source": [
    "📌 Zeigt die Verteilung der Sentiment-Scores (z. B. wie viele Tweets sind stark negativ, positiv oder neutral)."
   ]
  },
  {
   "cell_type": "code",
   "execution_count": null,
   "id": "36cbdbf514fd91d8",
   "metadata": {},
   "outputs": [],
   "source": [
    "column_distplot(tweet_df, column_name=\"afinn_score\", bins=10)\n",
    "column_distplot(tweet_df, column_name=\"vander_score\", bins=10)\n"
   ]
  },
  {
   "cell_type": "markdown",
   "id": "99fcca9a9ac2410f",
   "metadata": {},
   "source": [
    "🔹 2. Liniendiagramm: Sentiment vs. Aktienkurs über Zeit\n",
    "\n",
    "📌 Visualisiert zeitlich: Wann starke positive oder negative Tweets auftraten und wie sich der Aktienkurs parallel dazu veränderte.\n",
    "\n"
   ]
  },
  {
   "cell_type": "code",
   "execution_count": null,
   "id": "b13a67b82a675b34",
   "metadata": {},
   "outputs": [],
   "source": [
    "def sentiment_overtime(tweet_df, stock_df, title, score_column_name=\"score\"):\n",
    "    fig = plt.figure(figsize=(24,10))\n",
    "    ax1 = fig.add_subplot()\n",
    "    ax2 = ax1.twinx()\n",
    "\n",
    "    # Sentiment (Vader oder Afinn)\n",
    "    ax1.vlines(tweet_df['day_date'], 0, tweet_df[score_column_name])\n",
    "    ax1.axhline(y=0, color='r', linestyle='-')\n",
    "\n",
    "    # Aktienkurs (Close)\n",
    "    ax2.plot(stock_df['day_date'], stock_df['close_value'], color='orange', label='Stock price')\n",
    "\n",
    "    ax2.set_title(\"Effects of \" + title +\" tweets to stock price\")\n",
    "    ax1.set_xlabel('Datum')\n",
    "    ax1.set_ylabel('Sentiment Score', color=\"blue\")\n",
    "    plt.show()\n"
   ]
  }
 ],
 "metadata": {
  "kernelspec": {
   "display_name": "Python 3 (ipykernel)",
   "language": "python",
   "name": "python3"
  },
  "language_info": {
   "codemirror_mode": {
    "name": "ipython",
    "version": 3
   },
   "file_extension": ".py",
   "mimetype": "text/x-python",
   "name": "python",
   "nbconvert_exporter": "python",
   "pygments_lexer": "ipython3",
   "version": "3.10.14"
  }
 },
 "nbformat": 4,
 "nbformat_minor": 5
}

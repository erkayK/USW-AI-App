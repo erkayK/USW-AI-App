{
 "cells": [
  {
   "cell_type": "markdown",
   "id": "4a6f6ad1e42e3504",
   "metadata": {},
   "source": [
    "# USW-AI-Projekt: Einfluss sozialer Medien auf Aktienkurse\n",
    "## CRISP-DM Struktur\n",
    "---"
   ]
  },
  {
   "cell_type": "markdown",
   "id": "d0bd09499a3af084",
   "metadata": {},
   "source": [
    "### 1. Business Understanding\n",
    "- Ziel: Zusammenhang zwischen Twitter-Stimmung und Aktienkursentwicklung untersuchen\n",
    "- Zielgruppe: Finanzanalysten, Anleger\n",
    "- Fragestellung: Kann man Kursbewegungen durch Stimmung erklären oder sogar vorhersagen?"
   ]
  },
  {
   "cell_type": "markdown",
   "id": "b36898cf9824850b",
   "metadata": {},
   "source": [
    "### 2. Data Understanding\n",
    "- Datenquellen: Twitter API v2, yfinance\n",
    "- Zeitraum: z. B. letzte 3–6 Monate\n",
    "- Unternehmen: z. B. SAP, Siemens, BMW"
   ]
  },
  {
   "metadata": {},
   "cell_type": "markdown",
   "source": "- Daten vorbereiten & alle nötigen Libaries laden\n",
   "id": "f13f66d913c5b24b"
  },
  {
   "metadata": {
    "ExecuteTime": {
     "end_time": "2025-06-25T21:15:16.512199Z",
     "start_time": "2025-06-25T21:15:16.507787Z"
    }
   },
   "cell_type": "code",
   "source": [
    "import pandas as pd\n",
    "import numpy as np\n",
    "import matplotlib.pyplot as plt\n",
    "import seaborn as sns\n",
    "from scipy import stats as stat\n",
    "\n",
    "%matplotlib inline\n",
    "sns.set()\n",
    "\n",
    "# To avoid Warning message inbetween ...\n",
    "import warnings\n",
    "warnings.filterwarnings('ignore')"
   ],
   "id": "ee1e3150d15e739d",
   "outputs": [],
   "execution_count": 8
  },
  {
   "cell_type": "markdown",
   "id": "fb4cc1f976cc309a",
   "metadata": {},
   "source": [
    "### 3. Data Preparation\n",
    "- Dataset laden\n",
    "- Hier werden die .csv-Dateien geladen:\n",
    "- Tweets.csv enthält Tweets über Tesla (z. B. Datum, Text, Sentiment)"
   ]
  },
  {
   "cell_type": "code",
   "id": "f5f47c6a63b96886",
   "metadata": {
    "ExecuteTime": {
     "end_time": "2025-06-25T21:15:03.967428Z",
     "start_time": "2025-06-25T21:14:57.704390Z"
    }
   },
   "source": [
    "import pandas as pd\n",
    "\n",
    "company_tweet = pd.read_csv(\"../Datasets/raw/tweets_top_companies/Company_Tweet.csv\")\n",
    "tweet         = pd.read_csv(\"../Datasets/raw/tweets_top_companies/Tweet.csv\")\n",
    "company       = pd.read_csv(\"../Datasets/raw/tweets_top_companies/Company.csv\")\n",
    "company_value = pd.read_csv(\"../Datasets/raw/company_values/CompanyValues.csv\")\n"
   ],
   "outputs": [],
   "execution_count": 6
  },
  {
   "cell_type": "markdown",
   "id": "f6511cf8e04bf499",
   "metadata": {},
   "source": [
    "### 4. Merge Data\n",
    "- Daten zusammenführen\n",
    "- Jetzt sind für jeden Tag Kursdaten + Durchschnittssentiment in einer gemeinsamen Tabelle"
   ]
  },
  {
   "metadata": {},
   "cell_type": "code",
   "outputs": [],
   "execution_count": null,
   "source": [
    "# Merge beider Datensätze anhand des Datums\n",
    "merged_df = pd.merge(stock_df, daily_sentiment, on='Date', how='inner')"
   ],
   "id": "658f4984dee00b4b"
  },
  {
   "metadata": {},
   "cell_type": "markdown",
   "source": [
    "### 5. Korrelation berechnen\n",
    "- Korrelation zeigt, ob positive Tweets mit steigenden Kursen einhergehen (+1 = stark positiv)"
   ],
   "id": "2b963d03674e5c63"
  },
  {
   "metadata": {},
   "cell_type": "code",
   "outputs": [],
   "execution_count": null,
   "source": [
    "correlation = merged_df[['Avg_Sentiment', 'Close']].corr()\n",
    "print(\"📊 Korrelation zwischen Sentiment und Schlusskurs:\")\n",
    "print(correlation)"
   ],
   "id": "32f0f8fb9272e5b1"
  },
  {
   "metadata": {},
   "cell_type": "markdown",
   "source": [
    "### 6.Visualisierung\n",
    "\n",
    "Die Entwicklung des Aktienkurses von Tesla (Close-Preis)\n",
    "Den durchschnittlichen Sentiment-Wert pro Tag (z. B. aus Twitter-Daten)"
   ],
   "id": "25ee8f7866af9c58"
  },
  {
   "metadata": {},
   "cell_type": "code",
   "outputs": [],
   "execution_count": null,
   "source": [
    "import matplotlib.pyplot as plt\n",
    "\n",
    "# x-Achse = Datum, y-Achse = Schlusskurs (Close) der Tesla-Aktie, durchschnittliches Sentiment pro Tag (multipliziert mit 100, um auf ähnlicher Skala wie Aktienkurs sichtbar zu sein)\n",
    "plt.figure(figsize=(12,5)) # Diagramm mit einer Größe von 12 x 5\n",
    "plt.plot(merged_df['Date'], merged_df['Close'], label='Schlusskurs', color='blue')\n",
    "plt.plot(merged_df['Date'], merged_df['Avg_Sentiment'] * 100, label='Sentiment (x100)', color='orange')\n",
    "\n",
    "plt.legend()\n",
    "plt.title(\"Tesla: Sentiment vs. Aktienkurs\")\n",
    "plt.xlabel(\"Datum\")\n",
    "plt.ylabel(\"Wert\")\n",
    "plt.grid(True)\n",
    "plt.show()\n"
   ],
   "id": "bfa1b43ac76988eb"
  },
  {
   "metadata": {},
   "cell_type": "markdown",
   "source": "📌 Zeigt die Verteilung der Sentiment-Scores (z. B. wie viele Tweets sind stark negativ, positiv oder neutral).",
   "id": "7806e64a4762792f"
  },
  {
   "metadata": {},
   "cell_type": "code",
   "outputs": [],
   "execution_count": null,
   "source": [
    "column_distplot(tweet_df, column_name=\"afinn_score\", bins=10)\n",
    "column_distplot(tweet_df, column_name=\"vander_score\", bins=10)\n"
   ],
   "id": "36cbdbf514fd91d8"
  },
  {
   "metadata": {},
   "cell_type": "markdown",
   "source": [
    "🔹 2. Liniendiagramm: Sentiment vs. Aktienkurs über Zeit\n",
    "\n",
    "📌 Visualisiert zeitlich: Wann starke positive oder negative Tweets auftraten und wie sich der Aktienkurs parallel dazu veränderte.\n",
    "\n"
   ],
   "id": "99fcca9a9ac2410f"
  },
  {
   "metadata": {},
   "cell_type": "code",
   "outputs": [],
   "execution_count": null,
   "source": [
    "def sentiment_overtime(tweet_df, stock_df, title, score_column_name=\"score\"):\n",
    "    fig = plt.figure(figsize=(24,10))\n",
    "    ax1 = fig.add_subplot()\n",
    "    ax2 = ax1.twinx()\n",
    "\n",
    "    # Sentiment (Vader oder Afinn)\n",
    "    ax1.vlines(tweet_df['day_date'], 0, tweet_df[score_column_name])\n",
    "    ax1.axhline(y=0, color='r', linestyle='-')\n",
    "\n",
    "    # Aktienkurs (Close)\n",
    "    ax2.plot(stock_df['day_date'], stock_df['close_value'], color='orange', label='Stock price')\n",
    "\n",
    "    ax2.set_title(\"Effects of \" + title +\" tweets to stock price\")\n",
    "    ax1.set_xlabel('Datum')\n",
    "    ax1.set_ylabel('Sentiment Score', color=\"blue\")\n",
    "    plt.show()\n"
   ],
   "id": "b13a67b82a675b34"
  }
 ],
 "metadata": {
  "kernelspec": {
   "display_name": "Python 3.10 (venv310)",
   "language": "python",
   "name": "venv310"
  },
  "language_info": {
   "codemirror_mode": {
    "name": "ipython",
    "version": 3
   },
   "file_extension": ".py",
   "mimetype": "text/x-python",
   "name": "python",
   "nbconvert_exporter": "python",
   "pygments_lexer": "ipython3",
   "version": "3.10.9"
  }
 },
 "nbformat": 4,
 "nbformat_minor": 5
}
